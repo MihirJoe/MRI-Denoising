{
 "cells": [
  {
   "cell_type": "markdown",
   "id": "0779cb53-a916-41f9-ab95-c24039d89a16",
   "metadata": {},
   "source": [
    "___\n",
    "# **BME 5710 project report**\n",
    "## Instructor -- Rizwan Ahmad (ahmad.46@osu.edu)\n",
    "## BME5710 -- Spring 2024"
   ]
  },
  {
   "cell_type": "markdown",
   "id": "6ca22128-d705-4915-9165-1138474e2eaf",
   "metadata": {},
   "source": [
    "___\n",
    "### Provide descriptive answers at `???` locations and insert figures or tables at `?content?`"
   ]
  },
  {
   "cell_type": "markdown",
   "id": "874d1a16-3368-4f9f-94d1-771dba37e494",
   "metadata": {},
   "source": [
    "___\n",
    "### Write your name below."
   ]
  },
  {
   "cell_type": "markdown",
   "id": "9f14effb-5721-472d-b299-c311b1edb084",
   "metadata": {},
   "source": [
    "Answer: Mihir Joshi"
   ]
  },
  {
   "cell_type": "markdown",
   "id": "a6a46acc",
   "metadata": {},
   "source": [
    "___\n",
    "### Write the name of your teammates"
   ]
  },
  {
   "cell_type": "markdown",
   "id": "b756447a",
   "metadata": {},
   "source": [
    "Answer: Dema & Jenna"
   ]
  },
  {
   "cell_type": "markdown",
   "id": "af677ae3-4e2b-49df-a06a-771af1154d91",
   "metadata": {},
   "source": [
    "___\n",
    "### (1.1) Provide a layout of your CNN (6%)\n",
    "\n",
    "#### The layout should provide all the necessary details about the CNN architecture including number of channels, size of convolution kernels, activation functions, etc. For inspiration, see examples [here](https://www.geeksforgeeks.org/u-net-architecture-explained/), [here](https://www.researchgate.net/figure/The-architecture-of-Unet_fig2_334287825), [here](https://www.researchgate.net/figure/Modified-U-net-network-architecture_fig2_356216368), and [here](https://open-instruction.com/dl-algorithms/overview-of-residual-neural-network-resnet/)."
   ]
  },
  {
   "cell_type": "markdown",
   "id": "738302d6-ccf3-49af-85c7-eac2de4ed5e2",
   "metadata": {},
   "source": [
    "`?content?`"
   ]
  },
  {
   "cell_type": "markdown",
   "id": "53876c54",
   "metadata": {},
   "source": [
    "___\n",
    "### (1.2) List *all* non-trivial features of your CNN and the training process. This may include use of dropout, learning rate scheduling, transfer learning, data augmentation, etc. Don't include items that are already covered in the layout provided above.  (1%)"
   ]
  },
  {
   "cell_type": "markdown",
   "id": "d1f65401",
   "metadata": {},
   "source": [
    "Answer: ???"
   ]
  },
  {
   "cell_type": "markdown",
   "id": "a1bc63e9",
   "metadata": {},
   "source": [
    "___\n",
    "### (2) Answer the following questions about your CNN architecture and training. (5%)"
   ]
  },
  {
   "cell_type": "markdown",
   "id": "819917d8-0b7d-4cf9-9636-60764389eb90",
   "metadata": {},
   "source": [
    "___\n",
    "### (2.1) Provide at least ten hyperparameters that you *could* optimize in your CNN design and training. (1%)"
   ]
  },
  {
   "cell_type": "markdown",
   "id": "82087b67-e000-489a-95ff-0015550911a5",
   "metadata": {},
   "source": [
    "Answer: Learning rate, number of epochs, number of convolutional layers, batch size, kernel size, stride, padding, dropout probability, number of input and output channels, pooling layer type, pooling layer size, type of optimizer, regularizing term, type of activiation function."
   ]
  },
  {
   "cell_type": "markdown",
   "id": "604e191e-148d-4da1-89e7-f44e40cff7f0",
   "metadata": {},
   "source": [
    "___\n",
    "### (2.2) Now, list the hyperparameters that you *have* optimized. (1%)"
   ]
  },
  {
   "cell_type": "markdown",
   "id": "572f0d19-fca5-45cc-a9d9-d9cb87dde1cf",
   "metadata": {},
   "source": [
    "Answer: number of epochs, learning rate, dropout, number of convolutional layers, activation function (ReLU), batch size, kernel size, stride, pooling size, number of input and output channels "
   ]
  },
  {
   "cell_type": "markdown",
   "id": "dbbfa6b3-c2e7-48af-bf3a-88d912c015ab",
   "metadata": {},
   "source": [
    "___\n",
    "### (2.3) Describe your stretegy/approach for optimizing hyperparameters. (1%)"
   ]
  },
  {
   "cell_type": "markdown",
   "id": "0d5850bf-b2b9-4541-8c10-cc5cd9a4651a",
   "metadata": {},
   "source": [
    "Answer: Before optimizing the hyperparameters, we first set up the NMSE and SSIM functions "
   ]
  },
  {
   "cell_type": "markdown",
   "id": "3a9d7bc2-ed30-432f-bf37-556ca4bdd575",
   "metadata": {},
   "source": [
    "___\n",
    "### (2.4) What loss function and optimizers did you use?  Express the loss function mathematically. (1%)"
   ]
  },
  {
   "cell_type": "markdown",
   "id": "6c29d8db-783d-45f6-aef1-d63b16c29570",
   "metadata": {},
   "source": [
    "Answer: Mean Squared Error & Adam Optimizer *****"
   ]
  },
  {
   "cell_type": "markdown",
   "id": "8f12df09-b84d-47d7-a0a8-52356975c8d3",
   "metadata": {},
   "source": [
    "___\n",
    "### (2.5) Calculate the number of learnable parameters in your final CNN. How does that number compare with the number of training samples? Is your network overfitting or underfitting and how did you arrive at that conclusion? Explain that in the context of loss vs. epoch and NMSE vs. epoch curves for training and validation datasets. (1%)"
   ]
  },
  {
   "cell_type": "markdown",
   "id": "318136f5-a027-4128-a481-9e90d7ea85b6",
   "metadata": {},
   "source": [
    "Answer: ???"
   ]
  },
  {
   "cell_type": "markdown",
   "id": "8ddb81cd",
   "metadata": {},
   "source": [
    "___\n",
    "### (3.1) Insert (or draw using Markdown) a table that summarizes NMSE and SSIM for (i) noisy images, (ii) images denoised with TrivialNet model included in `starter_code.ipynb`, and (iii) images denoised with your CNN. Include the metrics from training, validation, and test datasets. (6%)"
   ]
  },
  {
   "cell_type": "markdown",
   "id": "62727b26",
   "metadata": {},
   "source": [
    "`?content?`"
   ]
  },
  {
   "cell_type": "markdown",
   "id": "c308882b",
   "metadata": {},
   "source": [
    "___\n",
    "### (3.2) When it comes to comparing images, what does SSIM capture that NMSE does not? (1%)"
   ]
  },
  {
   "cell_type": "markdown",
   "id": "e814291f",
   "metadata": {},
   "source": [
    "Answer: ???"
   ]
  },
  {
   "cell_type": "markdown",
   "id": "2f83ccbb",
   "metadata": {},
   "source": [
    "___\n",
    "### (4.1) Display a figure where the first row (from left to right) shows an example of clean image, noisy image, image denoised with TrivialNet, and the image denoised with your CNN, and the second row shows corresponding error maps after 3-fold amplification. Select the image from the test dataset. (5%)"
   ]
  },
  {
   "cell_type": "markdown",
   "id": "3cb7daed",
   "metadata": {},
   "source": [
    "`?content?`"
   ]
  },
  {
   "cell_type": "markdown",
   "id": "93c89ab4-45de-4bd2-ac00-57eed8ed6e95",
   "metadata": {},
   "source": [
    "___\n",
    "### (4.2) From (4.1), identify which image features are well-preserved by your denoiser and which are lost. Additionally, describe how you could further improve the performance of your denoiser if given more time and resources. (1%)"
   ]
  },
  {
   "cell_type": "markdown",
   "id": "98c3b816",
   "metadata": {},
   "source": [
    "Answer: ???"
   ]
  }
 ],
 "metadata": {
  "kernelspec": {
   "display_name": "Python 3 (ipykernel)",
   "language": "python",
   "name": "python3"
  },
  "language_info": {
   "codemirror_mode": {
    "name": "ipython",
    "version": 3
   },
   "file_extension": ".py",
   "mimetype": "text/x-python",
   "name": "python",
   "nbconvert_exporter": "python",
   "pygments_lexer": "ipython3",
   "version": "3.9.13"
  }
 },
 "nbformat": 4,
 "nbformat_minor": 5
}

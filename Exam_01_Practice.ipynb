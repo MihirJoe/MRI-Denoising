{
 "cells": [
  {
   "cell_type": "markdown",
   "id": "e1bc9d94-b011-477f-a718-cb892954dad7",
   "metadata": {},
   "source": [
    "# **Midterm 01 -- Practice**\n",
    "## Points -- 35\n",
    "## Instructor -- Rizwan Ahmad (ahmad.46@osu.edu)\n",
    "## BME5710 -- Spring 2024\n",
    "___"
   ]
  },
  {
   "cell_type": "markdown",
   "id": "24a56828",
   "metadata": {},
   "source": [
    "### Instructions: Provide single-line code between `### begin code line` and `### end code line`, provide multi-line code between `### begin code block` and `### end code block`, and provide non-coding answers at `???`. For multiple choice questions, select only one option unless specified otherwise."
   ]
  },
  {
   "cell_type": "markdown",
   "id": "53a33391",
   "metadata": {},
   "source": [
    "### Write your name here: Dema Alkashkish"
   ]
  },
  {
   "cell_type": "markdown",
   "id": "7c9a2355-e083-4c0d-8cec-6807fa5c6458",
   "metadata": {
    "tags": []
   },
   "source": [
    "### In case you need to do some calculations, import NumPy. Don't import any other library."
   ]
  },
  {
   "cell_type": "code",
   "execution_count": 4,
   "id": "199fe5b9-c633-452f-98e7-25cd22e221fc",
   "metadata": {
    "tags": []
   },
   "outputs": [],
   "source": [
    "import numpy as np # Import numpy library and as \"np\""
   ]
  },
  {
   "cell_type": "markdown",
   "id": "c86f9be6-95fd-4ca0-8c4a-8c22f9f87161",
   "metadata": {},
   "source": [
    "### (1) What's the size of $\\boldsymbol{z^{\\sf T}A^{\\sf T}\\boldsymbol{x}}$, where $\\boldsymbol{A}$ is a $4\\times 3$ matrix, $\\boldsymbol{z}$ is a $3 \\times 1$ vector, and $\\boldsymbol{x}$ is a $4 \\times 1$ vector. (1 pt)\n",
    "\n",
    "#### (A) $3\\times 4$\n",
    "#### (B) $4 \\times 3$\n",
    "#### (C) $4 \\times 1$\n",
    "#### (D) $1\\times 1$"
   ]
  },
  {
   "cell_type": "markdown",
   "id": "06dc82b9-23f1-4b58-9b9e-85597d93862e",
   "metadata": {},
   "source": [
    "Answer: D\n",
    "___"
   ]
  },
  {
   "cell_type": "markdown",
   "id": "c5586de7-5502-4acf-b59b-bd9a2985747c",
   "metadata": {},
   "source": [
    "### (2) If you draw samples $\\left\\{(x^{(i)}, y^{(i)})\\right\\}_{i=1}^m$ from the model $\\tilde{y} = x^3$, where $-1\\leq x \\leq 1$, you would expect the correlation coefficient, $r_{xy}$, between $x$ and $y$ to be \\_\\_\\_\\_\\_. You may assume there is no noise in the measurements.  (2 pt)\n",
    "\n",
    "#### (A) zero\n",
    "#### (B) +1\n",
    "#### (C) -1\n",
    "#### (D) a positive number less than +1\n",
    "#### (E) a negative number more than -1"
   ]
  },
  {
   "cell_type": "markdown",
   "id": "7d3aee83-3486-457c-af87-6cd741ca2bd3",
   "metadata": {},
   "source": [
    "Answer: D\n",
    "___"
   ]
  },
  {
   "cell_type": "markdown",
   "id": "10e916bc-2237-491b-b9c8-1e19b0dc66c3",
   "metadata": {},
   "source": [
    "### (3) If the correlation coefficient between $x$ and $y$ is -1/2, what's the value of the correlation coefficient between $y$ and $k_1x + k_2$? Here, $k_1<0$ and $k_2>0$ are constants. (1 pt)\n",
    "\n",
    "#### (A) 0\n",
    "#### (B) -1\n",
    "#### (C) +1\n",
    "#### (D) -1/2\n",
    "#### (E) +1/2"
   ]
  },
  {
   "cell_type": "markdown",
   "id": "f04ea9f3-35a2-47a1-9664-fa4ce282b32a",
   "metadata": {},
   "source": [
    "Answer: E\n",
    "___"
   ]
  },
  {
   "cell_type": "markdown",
   "id": "a8c795e3-f890-41f7-b77c-3c46738a6287",
   "metadata": {},
   "source": [
    "### (4) If $\\boldsymbol{C}^{\\sf T} = \\boldsymbol{C}$, then $\\frac{\\partial}{\\partial \\boldsymbol{x}} \\left(\\boldsymbol{x}^{\\sf T}\\boldsymbol{C}^{\\sf T}\\boldsymbol{x}\\right) = \\_\\_\\_\\_$.\n",
    "\n",
    "#### (A) $\\boldsymbol{x}$\n",
    "#### (B) $\\boldsymbol{Cx}$\n",
    "#### (C) $2\\boldsymbol{C^{\\sf T}x}$\n",
    "#### (D) $\\boldsymbol{C^{\\sf T}x}$"
   ]
  },
  {
   "cell_type": "markdown",
   "id": "90505e2d-c7c3-45c5-aeea-fc63517ba697",
   "metadata": {},
   "source": [
    "Answer: C\n",
    "___"
   ]
  },
  {
   "cell_type": "markdown",
   "id": "63faa8fd-5827-4bba-8a8d-10aa81ab4650",
   "metadata": {},
   "source": [
    "### (5) How many learnable parameters are there in polynomial regression with a third-order polynomial? You may assume that there is only one predictor. (1 pt)\n",
    "\n",
    "#### (A) 1\n",
    "#### (B) 2\n",
    "#### (C) 3\n",
    "#### (D) 4"
   ]
  },
  {
   "cell_type": "markdown",
   "id": "6f8b8005-3c1e-4721-b047-e612d289a674",
   "metadata": {},
   "source": [
    "Answer: D\n",
    "___"
   ]
  },
  {
   "cell_type": "markdown",
   "id": "bafa6449-4a5e-4b47-9c8f-8eab4eb1dc5f",
   "metadata": {},
   "source": [
    "### (6) Provide an example of $\\boldsymbol{z} \\in \\mathbb{R}^{3\\times 1}$ such that $\\|\\boldsymbol{z} \\|_2 = \\|\\boldsymbol{z} \\|_1$. (1 pt)"
   ]
  },
  {
   "cell_type": "markdown",
   "id": "dc45d03b-aaa0-45dd-b35d-4cf2af10b197",
   "metadata": {},
   "source": [
    "Answer: Not Sure... [1,0,0]^T\n",
    "___"
   ]
  },
  {
   "cell_type": "markdown",
   "id": "be51b334-cff3-492a-8a22-9ff01fd79a89",
   "metadata": {},
   "source": [
    "### (7) If $w_1 < w_2$ then which one of these statements is true. (2 pt)\n",
    "\n",
    "#### (A) $-\\log(w_1) < -\\log(w_2)$ and $\\frac{e^{w_1}}{e^{w_1} + e^{w_2}} < \\frac{e^{w_2}}{e^{w_1} + e^{w_2}}$\n",
    "#### (B) $-\\log(w_1) > -\\log(w_2)$ and $\\frac{e^{w_1}}{e^{w_1} + e^{w_2}} < \\frac{e^{w_2}}{e^{w_1} + e^{w_2}}$\n",
    "#### (C) $-\\log(w_1) < -\\log(w_2)$ and $\\frac{e^{w_1}}{e^{w_1} + e^{w_2}} > \\frac{e^{w_2}}{e^{w_1} + e^{w_2}}$\n",
    "#### (D) $-\\log(w_1) > -\\log(w_2)$ and $\\frac{e^{w_1}}{e^{w_1} + e^{w_2}} > \\frac{e^{w_2}}{e^{w_1} + e^{w_2}}$\n"
   ]
  },
  {
   "cell_type": "markdown",
   "id": "34a02213-d1f4-4c1c-b92e-9d3d55ab579f",
   "metadata": {},
   "source": [
    "Answer: B\n",
    "___"
   ]
  },
  {
   "cell_type": "markdown",
   "id": "b79f885b-d27f-4cca-9b73-ae61fbe81403",
   "metadata": {},
   "source": [
    "### (8) In three-class LoR, a test sample's scores corresponding to classes A, B, and C are -2, 1, 3, respectively. What's the confidence (probability) that this test sample belongs to class B? (2 pt)\n",
    "#### Show work to get credit."
   ]
  },
  {
   "cell_type": "markdown",
   "id": "8082f280-1f5c-449a-a5ed-83b3b420e4b1",
   "metadata": {},
   "source": [
    "Answer: 11.85%\n",
    "___"
   ]
  },
  {
   "cell_type": "markdown",
   "id": "db8dc525-4923-43bc-a0bb-e6226cd6b9ca",
   "metadata": {},
   "source": [
    "### (9) Your binary classifier is not trained properly and always spits out '1' as an answer. Yet, your accuracy is still 95%. Give one plausible reason for such a high accuracy. (1 pt)"
   ]
  },
  {
   "cell_type": "markdown",
   "id": "55521b79-82d2-44ce-b638-7bdb0ef7ac5e",
   "metadata": {},
   "source": [
    "Answer: This could be because of a class imbalance in which there was a significantly larger prevelance for the '1' group.\n",
    "___"
   ]
  },
  {
   "cell_type": "markdown",
   "id": "6082178d-9c71-4b2d-9e30-d233671cf5c2",
   "metadata": {},
   "source": [
    "### (10) In a three-class classification, all diagonal entries of the confusion matrix are zero. What's the accuracy of the classifier? (1 pt)\n",
    "\n",
    "#### (A) 0\n",
    "#### (B) Can't be determined\n",
    "#### (C) Between 0 and 1\n",
    "#### (C) 1"
   ]
  },
  {
   "cell_type": "markdown",
   "id": "a82e27bc-957a-4b3d-909f-89cfb1fa005a",
   "metadata": {},
   "source": [
    "Answer: A\n",
    "___"
   ]
  },
  {
   "cell_type": "markdown",
   "id": "41a7d102-e8cb-4971-983f-f00c97b79343",
   "metadata": {},
   "source": [
    "### (11) There are one continuous and two categorical features, one with two and the other with five unique values. You want to apply one-hot encoding to both categorical features. After applying one-hot encoding with column drop, how many total features will you have? (2 pt)"
   ]
  },
  {
   "cell_type": "markdown",
   "id": "c0d7dad7-8ea2-4d9a-929a-eb671697b03e",
   "metadata": {},
   "source": [
    "Answer: You will have the continuous feature, and two categorical features now one with one and the other with four unique features. \n",
    "**6**\n",
    "___"
   ]
  },
  {
   "cell_type": "markdown",
   "id": "1ca6eddd-1a53-4300-bec9-638b52e0ba24",
   "metadata": {},
   "source": [
    "### (12) Selecting a small step-size ($\\alpha$) to solve the LoR problem using gradient descent will lead to ... (1 pt)\n",
    "\n",
    "#### (A) slow convergence\n",
    "#### (B) divergence\n",
    "#### (C) low accuracy\n"
   ]
  },
  {
   "cell_type": "markdown",
   "id": "435fc96d-461b-40dc-a4b1-374ac4b6c78b",
   "metadata": {},
   "source": [
    "Answer: **A**\n",
    "___"
   ]
  },
  {
   "cell_type": "markdown",
   "id": "d2b31057-0810-478a-b8c7-d87beee81304",
   "metadata": {},
   "source": [
    "### (13) If model complexity, $d$, is higher than that of the true underlying model, the value of $f-\\mathbb{E}[\\hat{f}]$ ... (1 pt)\n",
    "\n",
    "#### (A) can't be determined.\n",
    "#### (B) is positive.\n",
    "#### (C) is negative.\n",
    "#### (D) is zero."
   ]
  },
  {
   "cell_type": "markdown",
   "id": "78a98567-6243-4c5c-8e42-4b3fcda97b08",
   "metadata": {},
   "source": [
    "Answer: D\n",
    "___"
   ]
  },
  {
   "cell_type": "markdown",
   "id": "48dff272-4376-4fda-8651-1dbf78c72eb9",
   "metadata": {},
   "source": [
    "### (14) Consider binary LoR with $\\hat{w}_0 = 0$ and $\\hat{w}_1=-5$, calculate the value of negative log likelihood, $J\\!\\left(\\boldsymbol{w}\\right)$, for these four testing sample pairs: $\\left\\{(-2, 1), (-1, 1), (1, 0), (2, 0)\\right\\}$? Note, calculate one single value from all four samples. (4 pt)\n",
    "#### Provide code to get credit."
   ]
  },
  {
   "cell_type": "code",
   "execution_count": 26,
   "id": "866bec49-ab34-46eb-939c-1d3b92f91390",
   "metadata": {},
   "outputs": [
    {
     "name": "stdout",
     "output_type": "stream",
     "text": [
      "The value of J(w) = 0.013521494776669642\n"
     ]
    }
   ],
   "source": [
    "### begin code block\n",
    "X = np.array([-2,-1,1,2])\n",
    "y = np.array([1,1,0,0])\n",
    "w_hat = [0,-5]\n",
    "z = w_hat[0] + w_hat[1]*X\n",
    "\n",
    "sig = np.array([1/(1+np.exp(-z))])\n",
    "J = -np.sum(y*np.log(sig) + (1-y)*(np.log(1-sig)))\n",
    "\n",
    "print(f\"The value of J(w) = {J}\")\n",
    "### end code block"
   ]
  },
  {
   "cell_type": "markdown",
   "id": "dd204147-d016-4521-933e-9a2387a485a4",
   "metadata": {},
   "source": [
    "### (15) In question (14), what does a negative value of $w_1$ represent in terms of the sigmoid shape? (1 pt)"
   ]
  },
  {
   "cell_type": "markdown",
   "id": "fcb88fc4-a2cf-4e59-b95b-efc8ca640cc8",
   "metadata": {},
   "source": [
    "Answer: The sigmiod would be flipped. In other words, it would decrease from 1 to zero rather than increase to it.\n",
    "___Flips the sigmoid curve along the horizontal axis."
   ]
  },
  {
   "cell_type": "markdown",
   "id": "2a80b6ab-9327-4dc4-b8c7-f1002a36e17c",
   "metadata": {},
   "source": [
    "### (16) In question (14), what's the value of the confidence (probability) that $x = 0.5$ belongs to class $y=0$? (2 pt)\n",
    "#### Provide code to get credit."
   ]
  },
  {
   "cell_type": "code",
   "execution_count": 30,
   "id": "71eadcc6-5a8d-43db-9377-00b8cfee7867",
   "metadata": {},
   "outputs": [
    {
     "name": "stdout",
     "output_type": "stream",
     "text": [
      "[0.92414182]\n"
     ]
    }
   ],
   "source": [
    "### begin code block\n",
    "X = np.array([1,0.5])\n",
    "w_hat = np.array([0,-5])\n",
    "z = np.dot(X.T,w_hat)\n",
    "\n",
    "sig = np.array([1/(1+np.exp(-z))])\n",
    "\n",
    "print(1-sig)\n",
    "### end code block"
   ]
  },
  {
   "cell_type": "markdown",
   "id": "dac67cf8-c995-4ca3-ac30-7ba61ebc6df8",
   "metadata": {},
   "source": [
    "### (17) In LoR, the smallest value that $J\\!\\left(\\boldsymbol{w}\\right)$ can assume is... (1 pt)\n",
    "\n",
    "#### (A) $-\\infty$\n",
    "#### (B) zero\n",
    "#### (C) 1"
   ]
  },
  {
   "cell_type": "markdown",
   "id": "b9fac011-9e39-4181-85a5-956cd06b238b",
   "metadata": {},
   "source": [
    "Answer: B"
   ]
  },
  {
   "cell_type": "markdown",
   "id": "befb9445-71e7-43fb-9ce2-fa4db0b4b0f2",
   "metadata": {},
   "source": [
    "### (18) How many learnable parameters are there in multi-class LoR with 10 features and three classes? (2 pt)\n"
   ]
  },
  {
   "cell_type": "markdown",
   "id": "3b009e06-f95f-4cef-a32e-b7d54c07b3cd",
   "metadata": {},
   "source": [
    "Answer: 33\n",
    "___"
   ]
  },
  {
   "cell_type": "markdown",
   "id": "bafe0104-1cff-48fb-891d-b7f2bc7c7e25",
   "metadata": {},
   "source": [
    "### (19) In three-class LoR, a test sample's scores corresponding to classes I, II, and III are -1,-1,-100, respectively. This test sample belongs to class I and class II with equal probability. (1 pt)\n",
    "\n",
    "#### (A) True\n",
    "#### (B) False"
   ]
  },
  {
   "cell_type": "markdown",
   "id": "443e6849-a7cf-494e-ab69-583fa3d7a640",
   "metadata": {},
   "source": [
    "Answer: A\n",
    "___"
   ]
  },
  {
   "cell_type": "markdown",
   "id": "aa004886-3ffd-44c7-adfd-1b9edd2e27f1",
   "metadata": {},
   "source": [
    "### (20) The sigmoid function $\\sigma\\left(w_0 + w_1x\\right) = 0.5$ at \\_\\_\\_\\_\\_. (2 pt)\n",
    "\n",
    "#### (A) $w_0 + w_1x = 0$\n",
    "#### (B) $w_0 + w_1x = 0.5$\n",
    "#### (B) $w_0 + w_1x = 1$\n",
    "#### (C) $w_0 + w_1x = -\\infty$\n",
    "#### (D) $w_0 + w_1x = +\\infty$"
   ]
  },
  {
   "cell_type": "markdown",
   "id": "016392b6-90f5-44e7-b4a0-a555fc805e55",
   "metadata": {},
   "source": [
    "Answer: A\n",
    "___"
   ]
  },
  {
   "cell_type": "markdown",
   "id": "edf11774-434d-4032-a81e-f44568095d50",
   "metadata": {},
   "source": [
    "### (21) If $\\mathbb{E}[\\epsilon]=1$, then what's $\\mathbb{E}[k_1\\epsilon + k_2]$, where $k_1>0$ and $k_2>0$ are constants? (2 pt)\n",
    "\n",
    "#### (A) 1\n",
    "#### (B) $k_1$\n",
    "#### (C) $k_2$\n",
    "#### (D) $k_1 + k_2$"
   ]
  },
  {
   "cell_type": "markdown",
   "id": "d1108323-7a74-40df-b7a6-80a251a26fc6",
   "metadata": {},
   "source": [
    "Answer: D"
   ]
  },
  {
   "cell_type": "markdown",
   "id": "8030728c-fe5a-4980-b7ba-95cc82833954",
   "metadata": {},
   "source": [
    "### (22) For model selection, the motivation behind one standard-error (SE) heuristic is to... (1 pt)\n",
    "\n",
    "#### (A) pick a simpler model that is not optimal but is expected to generalize better\n",
    "#### (B) pick a model that gives optimal performance on the validation set\n",
    "#### (C) pick a model that gives optimal performance on the training set\n"
   ]
  },
  {
   "cell_type": "markdown",
   "id": "9d890c2c-571d-4042-b103-d38e763b31fc",
   "metadata": {},
   "source": [
    "Answer: A"
   ]
  },
  {
   "cell_type": "markdown",
   "id": "f065da7d-3120-4571-b88f-e26b062472ee",
   "metadata": {},
   "source": [
    "### (23) Nonlinear transformations when applied to the original features can create new independent features. (1 pt)\n",
    "\n",
    "#### (A) True\n",
    "#### (B) False"
   ]
  },
  {
   "cell_type": "markdown",
   "id": "5df024f1-3017-435a-a154-1a2b8c5a12c6",
   "metadata": {},
   "source": [
    "Answer: B"
   ]
  },
  {
   "cell_type": "markdown",
   "id": "12e9a219-1149-47fc-878d-ce445c61c4e3",
   "metadata": {},
   "source": [
    "### (24) The GoF... (1 pt)\n",
    "\n",
    "#### (A) can get better if the features and/or target are scaled.\n",
    "#### (B) can get better if the features and/or target are shifted by a constant.\n",
    "#### (C) both (A) and (B)\n",
    "#### (D) cannot be improved by scaling or shifting the data."
   ]
  },
  {
   "cell_type": "markdown",
   "id": "2b2e8f2f-c41c-41c6-803d-bea3d3c9950b",
   "metadata": {},
   "source": [
    "Answer: D"
   ]
  },
  {
   "cell_type": "markdown",
   "id": "1225467f-8ad3-4afa-b616-8e976dedc646",
   "metadata": {},
   "source": [
    "___\n",
    "THE END\n",
    "___"
   ]
  }
 ],
 "metadata": {
  "kernelspec": {
   "display_name": "Python 3 (ipykernel)",
   "language": "python",
   "name": "python3"
  },
  "language_info": {
   "codemirror_mode": {
    "name": "ipython",
    "version": 3
   },
   "file_extension": ".py",
   "mimetype": "text/x-python",
   "name": "python",
   "nbconvert_exporter": "python",
   "pygments_lexer": "ipython3",
   "version": "3.11.5"
  }
 },
 "nbformat": 4,
 "nbformat_minor": 5
}
